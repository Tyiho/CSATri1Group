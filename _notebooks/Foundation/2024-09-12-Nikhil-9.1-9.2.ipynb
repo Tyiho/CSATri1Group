{
 "cells": [
  {
   "cell_type": "markdown",
   "metadata": {},
   "source": [
    "---\n",
    "layout: post\n",
    "title:  Java Inheritance (Nikhil)\n",
    "description: Team Teach for Java.\n",
    "categories: [DevOps]\n",
    "permalink: /nikhil-9.3-9.4\n",
    "toc: true\n",
    "comments: true\n",
    "---"
   ]
  },
  {
   "cell_type": "markdown",
   "metadata": {},
   "source": [
    "## Method Overrides"
   ]
  },
  {
   "cell_type": "markdown",
   "metadata": {},
   "source": [
    "Every class inherits methods from its **parent class**. These methods can be called in the child class and can also be **overridden**."
   ]
  },
  {
   "cell_type": "code",
   "execution_count": null,
   "metadata": {
    "vscode": {
     "languageId": "java"
    }
   },
   "outputs": [],
   "source": [
    "public class Shape {\n",
    "    protected String name;\n",
    "    private int length;\n",
    "    private int width;\n",
    "\n",
    "    // Default constructor\n",
    "    public Shape() {\n",
    "        this.name = \"rectangle\";\n",
    "        this.length = 10;\n",
    "        this.width = 5;\n",
    "    }\n",
    "\n",
    "    // Parameterized constructor\n",
    "    public Shape(String name, int length, int width) {\n",
    "        this.name = name;\n",
    "        this.length = length;\n",
    "        this.width = width;\n",
    "    }\n",
    "\n",
    "    // Getter methods\n",
    "    public String get_name() {\n",
    "        return this.name;\n",
    "    }\n",
    "\n",
    "    public int get_length() {\n",
    "        return this.length;\n",
    "    }\n",
    "\n",
    "    public int get_width() {\n",
    "        return this.width;\n",
    "    }\n",
    "\n",
    "    // Setter methods\n",
    "    public void set_name(String n) {\n",
    "        this.name = n;\n",
    "    }\n",
    "\n",
    "    public void set_length(int a) {\n",
    "        this.length = a;\n",
    "    }\n",
    "\n",
    "    public void set_width(int b) {\n",
    "        this.width = b;\n",
    "    }\n",
    "\n",
    "    // Method to calculate the area\n",
    "    public double calc_area() {\n",
    "        return this.length * this.width;\n",
    "    }\n",
    "\n",
    "    // Method to print the shape\n",
    "    public void print_shape() {\n",
    "        System.out.println(\"Shape: \" + this.name);\n",
    "    }\n",
    "\n",
    "    // Additional method to print something\n",
    "    public void print_something() {\n",
    "        System.out.println(\"This is a shape\");\n",
    "    }\n",
    "}\n",
    "\n",
    "public class Driver {\n",
    "    public static void main(String[] args) {\n",
    "        Shape s1 = new Shape();\n",
    "    }\n",
    "}\n",
    "\n",
    "// Run the driver code\n",
    "Driver.main(new String[0]);\n"
   ]
  },
  {
   "cell_type": "markdown",
   "metadata": {
    "vscode": {
     "languageId": "plaintext"
    }
   },
   "source": [
    "### Creating a Triangle:\n",
    "\n",
    "Currently Our shape class only takes in length and width parameters. This works fine for squares and rectangles, but what if we wanted to make a different shape. We would need a new way to define the geometry of our shape. "
   ]
  },
  {
   "cell_type": "code",
   "execution_count": null,
   "metadata": {
    "vscode": {
     "languageId": "java"
    }
   },
   "outputs": [],
   "source": [
    "public class Polygon extends Shape {\n",
    "\n",
    "    private List<Intetger> sides;\n",
    "    sides.add(3);\n",
    "    sides.add(3);\n",
    "    sides.add(3);\n",
    "    \n",
    "    public Polygon() {\n",
    "        super();\n",
    "    }\n",
    "\n",
    "    public Polygon(String name, List<Integer> sides) {\n",
    "        super(name);\n",
    "        this.sides = List<Integer> list = new ArrayList<Integer>();\n",
    "\n",
    "    }\n",
    "\n",
    "    @Override\n",
    "    public double calc_area() {\n",
    "        return (this.get_length() * this.get_width());\n",
    "    }\n",
    "\n",
    "    @Override\n",
    "    public void print_something() {\n",
    "        System.out.println(\"This is a Polygon\");\n",
    "    }\n",
    "\n",
    "    \n",
    "}\n",
    "\n",
    "public class Triangle extends Polygon {\n",
    "    public Triangle() {\n",
    "        super();\n",
    "    }\n",
    "\n",
    "    public Triangle(String name, int length, int width) {\n",
    "        super(name, length, width);\n",
    "    }\n",
    "\n",
    "    @Override\n",
    "    public double calc_area() {\n",
    "        return (get_length() * get_width() * 0.5);\n",
    "    }\n",
    "}\n",
    "\n",
    "public class Driver {\n",
    "    public static void main(String[] args) {\n",
    "        Shape s1 = new Shape();\n",
    "        Poltgon s2 = new Polygon(\"Triangle\",);\n",
    "        Shape s3 = new Triangle(\"triangle\", sides);\n",
    "\n",
    "        System.out.println(\"Area of s1 = \" + s1.calc_area());\n",
    "        System.out.println(\"Area of s2 = \" + s2.calc_area());\n",
    "        System.out.println(\"Area of s3 = \" + s3.calc_area());\n",
    "\n",
    "        s1.print_shape();\n",
    "        s2.print_shape();\n",
    "\n",
    "        // Using the overridden method\n",
    "        s1.print_something();\n",
    "        s2.print_something();\n",
    "    }\n",
    "}\n",
    "\n",
    "// Run the driver code\n",
    "Driver.main(new String[0]);"
   ]
  }
 ],
 "metadata": {
  "language_info": {
   "name": "python"
  }
 },
 "nbformat": 4,
 "nbformat_minor": 2
}
