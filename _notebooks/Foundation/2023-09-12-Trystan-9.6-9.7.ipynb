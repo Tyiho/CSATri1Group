{
 "cells": [
  {
   "cell_type": "markdown",
   "metadata": {},
   "source": [
    "---\n",
    "layout: post\n",
    "title:  Java Inheritance (Trystan)\n",
    "description: Team Teach for Java.\n",
    "courses: { csse: {week: 1}, csp: {week: 1}, csa: {week: 1} }\n",
    "categories: [DevOps]\n",
    "permalink: /trystan-inheritance\n",
    "menu: nav/inheritance.html\n",
    "type: collab\n",
    "comments: true\n",
    "sticky_rank: 1\n",
    "---"
   ]
  },
  {
   "cell_type": "markdown",
   "metadata": {},
   "source": [
    "## Object Superclass"
   ]
  },
  {
   "cell_type": "markdown",
   "metadata": {},
   "source": [
    "Every class and object created **without** the ```extends``` keyword will inherit directly from the **[Object Superclass](https://docs.oracle.com/javase/8/docs/api/java/lang/Object.html)**. This means it will inherit some basic methods. Some notable methods are:\n",
    "1. ```getClass()```\n",
    "2. ```toString()```\n",
    "3. ```equals()```"
   ]
  },
  {
   "cell_type": "markdown",
   "metadata": {},
   "source": [
    "### So What?\n",
    "Well its important to keep in mind when writing out your class. If you are planning to have a **method** in your class/object that **matches the Object**, then it **must** be a ```public override``` because all of the Object methods are public.\n",
    "And there are some methods from Object such as **getClass()** that you **cannot** override."
   ]
  },
  {
   "cell_type": "code",
   "execution_count": null,
   "metadata": {},
   "outputs": [],
   "source": [
    "// this will return an error\n",
    "class Object1 {\n",
    "    String toString(){\n",
    "        return \"Object 1\";\n",
    "    }\n",
    "}"
   ]
  },
  {
   "cell_type": "code",
   "execution_count": 2,
   "metadata": {},
   "outputs": [],
   "source": [
    "// this will be fine\n",
    "class Object2{\n",
    "    @Override\n",
    "    public String toString(){\n",
    "        return \"Object 2\";\n",
    "    }\n",
    "}"
   ]
  },
  {
   "cell_type": "markdown",
   "metadata": {},
   "source": [
    "## Polymorphism"
   ]
  },
  {
   "cell_type": "markdown",
   "metadata": {},
   "source": [
    "Polymorphsim is to have many forms. \n",
    "* \"A reference variable **polymorphic** when it can refer to objects of different classes in the code\"\n",
    "* \"A method is **polymorphic** when it is overriden in at least one subclass\"\n",
    "* \"**Polymorphism** is the act of executing an overriden ```non-static``` method from the correct class at runtime based on the actual object type\""
   ]
  },
  {
   "cell_type": "markdown",
   "metadata": {},
   "source": [
    "### So What Does This Do?\n",
    "Here are some examples of Polymorphism."
   ]
  },
  {
   "cell_type": "markdown",
   "metadata": {},
   "source": [
    "First executing the overriden method from the referenced subclass in the datatype of the superclass."
   ]
  },
  {
   "cell_type": "code",
   "execution_count": null,
   "metadata": {},
   "outputs": [],
   "source": [
    "class Water {\n",
    "    public String typeOfWater(){\n",
    "        return \"water\";\n",
    "    }\n",
    "}\n",
    "\n",
    "class Lake extends Water {\n",
    "    @Override\n",
    "    public String typeOfWater(){\n",
    "        return \"lake\";\n",
    "    }\n",
    "}\n",
    "\n",
    "Water lake = new Lake(); //creates a \"Water\" class using a \"Lake\" constructor\n",
    "System.out.println(lake.typeOfWater()); // Therefore the typeOfWater is overriden"
   ]
  },
  {
   "cell_type": "markdown",
   "metadata": {},
   "source": [
    "You can also cast from the subclass to the superclass. This means you can pass a subclass into an argument that is asking for the parent class. "
   ]
  },
  {
   "cell_type": "code",
   "execution_count": null,
   "metadata": {},
   "outputs": [],
   "source": [
    "class Shape{\n",
    "    public int getSize(){\n",
    "        return 1;\n",
    "    }\n",
    "}\n",
    "\n",
    "class Square extends Shape{\n",
    "    @Override\n",
    "    public int getSize(){\n",
    "        return 2;\n",
    "    }\n",
    "}\n",
    "\n",
    "int getSizePlusOne(Shape s){ //argument of class \"Shape\"\n",
    "    return s.getSize() +1;\n",
    "}\n",
    "\n",
    "Shape myShape = new Shape();\n",
    "System.out.println(getSizePlusOne(myShape)); //passes through a \"Shape\"\n",
    "\n",
    "Square mySquare = new Square();\n",
    "System.out.println(getSizePlusOne(mySquare)); //passes through a \"Square\" as a \"Shape\" with the square's \"getSize()\" method"
   ]
  },
  {
   "cell_type": "markdown",
   "metadata": {},
   "source": [
    "And finally it allows you to cast from the superclass to the subclass. The superclass **must** be referencing the subclass."
   ]
  },
  {
   "cell_type": "code",
   "execution_count": null,
   "metadata": {},
   "outputs": [],
   "source": [
    "class Electronic{\n",
    "    public void playSound(){\n",
    "        System.out.println(\"Beep boop\");\n",
    "    }\n",
    "}\n",
    "\n",
    "class Computer extends Electronic{\n",
    "    @Override\n",
    "    public void playSound(){\n",
    "        System.out.println(\"Click clack\");\n",
    "    }\n",
    "}\n",
    "\n",
    "Electronic device = new Computer(); //creates a \"Electronic\" class using a \"Computer\" constructor\n",
    "\n",
    "Computer  computer = (Computer)device; //casts the \"Electronic\" to a \"Computer\"\n",
    "\n",
    "computer.playSound();"
   ]
  },
  {
   "cell_type": "code",
   "execution_count": null,
   "metadata": {},
   "outputs": [],
   "source": [
    "class Electronic{\n",
    "    public void playSound(){\n",
    "        System.out.println(\"Beep boop\");\n",
    "    }\n",
    "}\n",
    "\n",
    "class Computer extends Electronic{\n",
    "    @Override\n",
    "    public void playSound(){\n",
    "        System.out.println(\"Click clack\");\n",
    "    }\n",
    "}\n",
    "\n",
    "Electronic device = new Electronic(); //creates a \"Electronic\" class using a \"Electronic\" constructor\n",
    "\n",
    "Computer  computer = (Computer)device; //cannot cast the \"Electronic\" to a \"Computer\""
   ]
  },
  {
   "cell_type": "markdown",
   "metadata": {},
   "source": [
    "## What is happening?\n",
    "This may seem like a very strange set of effects. So what is happening?\n",
    "\n",
    "<iframe src=\"https://drive.google.com/file/d/1VQifozSUwet6bfmXzgzQkj5t9AQ2zh3b/preview\" width=\"640\" height=\"480\" allow=\"autoplay\"></iframe>\n",
    "\n",
    "Let's start with this line:\n",
    "``` SuperClass myObject = new SubClass();```\n",
    "\n",
    "It may seem like you are magically creating a SuperClass Object with the SubClass, but you are not. Instead you actually are creating a SubClass Object. The difference is that the SuperClass variable is referencing the SuperClass parts of the SubClass.\n",
    "* \"A reference variable can store a refernece to its declared class or any subclass of its declared class\"\n",
    "\n",
    "\n",
    "This also means that if the data type is the SuperClass and you try to call a method that doesn't exist in the SuperClass, it will return an error. But you can cast the variable to the SubClass because the refrence is the SubClass. After casting if you call a method that is only in the subclass then it won't return an error.\n",
    "\n",
    "Next running methods:\n",
    "``` SuperClass.method() == SubClass.method(); //where the method is overriden by a subclass```\n",
    "\n",
    "When you run a method that the SuperClass has, it starts at the referenced object and checks if there is an override, if not it moves up the ancestry chain until it either finds an override or finds the orginal method.\n"
   ]
  },
  {
   "cell_type": "markdown",
   "metadata": {},
   "source": [
    "## the Object Superclass returns\n",
    "Polymorphism also applies with the **Object Superclass**.\n",
    "Techically any class or object is an ```Object```."
   ]
  },
  {
   "cell_type": "code",
   "execution_count": null,
   "metadata": {},
   "outputs": [],
   "source": [
    "class Fruit{\n",
    "    @Override\n",
    "    public String toString(){\n",
    "        return \"I'm a Fruit!\";\n",
    "    }\n",
    "}\n",
    "class Banana extends Fruit{\n",
    "    @Override\n",
    "    public boolean equals(Object obj){ //overrides the equals\n",
    "        return true;\n",
    "    }\n",
    "}\n",
    "\n",
    "\n",
    "Object banana = new Banana();\n",
    "System.out.println(banana.toString());\n",
    "System.out.println(banana.equals(null)); //if \".equals()\" was not overriden from the \"Object\" this should always return false"
   ]
  }
 ],
 "metadata": {
  "kernelspec": {
   "display_name": "java (IJava/j!)",
   "language": "java",
   "name": "jbang-ijava"
  },
  "language_info": {
   "codemirror_mode": "java",
   "file_extension": ".jshell",
   "mimetype": "text/x-java-source",
   "name": "java",
   "pygments_lexer": "java",
   "version": "17.0.12+7"
  }
 },
 "nbformat": 4,
 "nbformat_minor": 2
}
