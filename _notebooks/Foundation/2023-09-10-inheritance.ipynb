{
 "cells": [
  {
   "cell_type": "markdown",
   "metadata": {},
   "source": [
    "---\n",
    "layout: post\n",
    "title:  Java Inheritance \n",
    "description: Team Teach for Java.\n",
    "categories: [DevOps]\n",
    "permalink: /inheritance\n",
    "toc: true\n",
    "comments: true\n",
    "---"
   ]
  },
  {
   "cell_type": "code",
   "execution_count": null,
   "metadata": {
    "vscode": {
     "languageId": "java"
    }
   },
   "outputs": [],
   "source": [
    "public class Vehicle {\n",
    "    public static void main(String[] args) {\n",
    "    }\n",
    "    float miles = 0;\n",
    "    float milesTraveled(milesToAdd){\n",
    "        this.miles += milesToAdd\n",
    "        return this.miles;\n",
    "    }\n",
    "    boolean hasMovement = true;\n",
    "}\n",
    "\n",
    "public class Car extends Vehicle {\n",
    "    public static void main(String[] args) {\n",
    "    }\n",
    "    boolean canFly = true;\n",
    "}\n",
    "\n",
    "public class Plane extends Vehicle {\n",
    "    public static void main(String[] args) {\n",
    "    }\n",
    "    boolean canFly = true;\n",
    "}"
   ]
  }
 ],
 "metadata": {
  "language_info": {
   "name": "python"
  }
 },
 "nbformat": 4,
 "nbformat_minor": 2
}
