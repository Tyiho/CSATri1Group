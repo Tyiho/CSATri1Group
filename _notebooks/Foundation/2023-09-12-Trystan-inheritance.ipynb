{
 "cells": [
  {
   "cell_type": "markdown",
   "metadata": {},
   "source": [
    "---\n",
    "layout: post\n",
    "title:  Java Inheritance (Trystan)\n",
    "description: Team Teach for Java.\n",
    "categories: [DevOps]\n",
    "permalink: /trystan-inheritance\n",
    "toc: true\n",
    "comments: true\n",
    "---"
   ]
  },
  {
   "cell_type": "markdown",
   "metadata": {},
   "source": [
    "## Object Superclass"
   ]
  },
  {
   "cell_type": "markdown",
   "metadata": {},
   "source": [
    "Every class and object created **without** the ```extends``` keyword will inherit from the **[Object Superclass](https://docs.oracle.com/javase/8/docs/api/java/lang/Object.html)**. This means it will have some basic methods built in. Some notable methods are:\n",
    "1. ```getClass()```\n",
    "2. ```toString()```\n",
    "3. ```equals()```"
   ]
  },
  {
   "cell_type": "markdown",
   "metadata": {},
   "source": [
    "### So What?\n",
    "Well its important to keep in mind when writing out your class. If you are planning to have a **method** in your class/object that **matches the Object Superclass**, then it **must** be a ```public override``` because all of the Object Superclass methods are public.\n",
    "And there are some methods from the Object Superclass such as **getClass()** that you **cannot** override."
   ]
  },
  {
   "cell_type": "code",
   "execution_count": null,
   "metadata": {},
   "outputs": [],
   "source": [
    "// this will return an error\n",
    "class Object1 {\n",
    "    String toString(){\n",
    "        return \"Object 1\";\n",
    "    }\n",
    "}"
   ]
  },
  {
   "cell_type": "code",
   "execution_count": 2,
   "metadata": {},
   "outputs": [],
   "source": [
    "// this will be fine\n",
    "class Object2{\n",
    "    @Override\n",
    "    public String toString(){\n",
    "        return \"Object 2\";\n",
    "    }\n",
    "}"
   ]
  },
  {
   "cell_type": "markdown",
   "metadata": {},
   "source": [
    "## Polymorphism"
   ]
  },
  {
   "cell_type": "markdown",
   "metadata": {},
   "source": [
    "Polymorphsim is to have many forms. In programming it means that classes can \"morph\" into inherent classes."
   ]
  },
  {
   "cell_type": "markdown",
   "metadata": {},
   "source": [
    "### So What?\n",
    "It allows you to create multiple sub classes, then create objects of those subclasses using the main class as the type."
   ]
  },
  {
   "cell_type": "code",
   "execution_count": null,
   "metadata": {},
   "outputs": [],
   "source": [
    "class Water {\n",
    "    public String typeOfWater(){\n",
    "        return \"water\";\n",
    "    }\n",
    "}\n",
    "\n",
    "class Lake extends Water {\n",
    "    @Override\n",
    "    public String typeOfWater(){\n",
    "        return \"lake\";\n",
    "    }\n",
    "}\n",
    "\n",
    "Water lake = new Lake(); //creates a \"Water\" class using a \"Lake\" constructor\n",
    "System.out.println(lake.typeOfWater()); // Therefore the typeOfWater is overriden"
   ]
  },
  {
   "cell_type": "markdown",
   "metadata": {},
   "source": [
    "You can also cast from the subclass to the superclass. This means you can pass a subclass into an argument that is asking for the parent class. "
   ]
  },
  {
   "cell_type": "code",
   "execution_count": null,
   "metadata": {},
   "outputs": [],
   "source": [
    "class Shape{\n",
    "    public int getSize(){\n",
    "        return 1;\n",
    "    }\n",
    "}\n",
    "\n",
    "class Square extends Shape{\n",
    "    @Override\n",
    "    public int getSize(){\n",
    "        return 2;\n",
    "    }\n",
    "}\n",
    "\n",
    "int getSizePlusOne(Shape s){ //argument of class \"Shape\"\n",
    "    return s.getSize() +1;\n",
    "}\n",
    "\n",
    "Shape myShape = new Shape();\n",
    "System.out.println(getSizePlusOne(myShape)); //passes through a \"Shape\"\n",
    "\n",
    "Square mySquare = new Square();\n",
    "System.out.println(getSizePlusOne(mySquare)); //passes through a \"Square\" as a \"Shape\" with the square's \"getSize()\" method"
   ]
  },
  {
   "cell_type": "markdown",
   "metadata": {},
   "source": [
    "And finally it allows you to cast from the superclass to the subclass. The superclass **must** be constructed with the subclass constructor."
   ]
  },
  {
   "cell_type": "code",
   "execution_count": null,
   "metadata": {},
   "outputs": [],
   "source": [
    "class Electronic{\n",
    "    public void playSound(){\n",
    "        System.out.println(\"Beep boop\");\n",
    "    }\n",
    "}\n",
    "\n",
    "class Computer extends Electronic{\n",
    "    @Override\n",
    "    public void playSound(){\n",
    "        System.out.println(\"Click clack\");\n",
    "    }\n",
    "}\n",
    "\n",
    "Electronic device = new Computer(); //creates a \"Electronic\" class using a \"Computer\" constructor\n",
    "\n",
    "Computer  computer = (Computer)device; //casts the \"Electronic\" to a \"Computer\"\n",
    "\n",
    "computer.playSound();"
   ]
  },
  {
   "cell_type": "code",
   "execution_count": null,
   "metadata": {},
   "outputs": [],
   "source": [
    "class Electronic{\n",
    "    public void playSound(){\n",
    "        System.out.println(\"Beep boop\");\n",
    "    }\n",
    "}\n",
    "\n",
    "class Computer extends Electronic{\n",
    "    @Override\n",
    "    public void playSound(){\n",
    "        System.out.println(\"Click clack\");\n",
    "    }\n",
    "}\n",
    "\n",
    "Electronic device = new Electronic(); //creates a \"Electronic\" class using a \"Electronic\" constructor\n",
    "\n",
    "Computer  computer = (Computer)device; //cannot cast the \"Electronic\" to a \"Computer\""
   ]
  },
  {
   "cell_type": "markdown",
   "metadata": {},
   "source": [
    "### So does that mean that you can use a parent object as the type for the child?\n",
    "***Kinda, Not Really!***\n",
    "\n",
    "Using a child classes constructor to make a parent class **won't** make the parent class the child class. So **any extra** methods in the child class **won't exist** when using the ```parent's type```."
   ]
  },
  {
   "cell_type": "code",
   "execution_count": null,
   "metadata": {},
   "outputs": [],
   "source": [
    "class Sweet {\n",
    "    public String name(){\n",
    "        return \"Sweet\";\n",
    "   }\n",
    "}\n",
    "\n",
    "class Chocolate extends Sweet {\n",
    "    @Override\n",
    "    public String name(){\n",
    "         return \"Chocolate\";\n",
    "    }\n",
    "\n",
    "    public boolean isBrown(){\n",
    "        return true;\n",
    "    }\n",
    "}\n",
    "\n",
    "Sweet chocolate = new Chocolate(); //creates a \"Sweet\" using a \"Chocolate\" constructor\n",
    "\n",
    "System.out.println(chocolate.name()); //returns \"Chocolate\"\n",
    "\n",
    "//this will result in an error becuase \"isBrown()\" is not a part of \"Sweet\"\n",
    "System.out.println(chocolate.isBrown());"
   ]
  },
  {
   "cell_type": "markdown",
   "metadata": {},
   "source": [
    "Polymorphism also applies with the **Object Superclass**.\n",
    "Techically any class or object is an ```Object```."
   ]
  },
  {
   "cell_type": "code",
   "execution_count": null,
   "metadata": {},
   "outputs": [],
   "source": [
    "class Fruit{\n",
    "    @Override\n",
    "    public String toString(){\n",
    "        return \"I'm a Fruit!\";\n",
    "    }\n",
    "}\n",
    "class Banana extends Fruit{\n",
    "    @Override\n",
    "    public boolean equals(Object obj){ //overrides the equals\n",
    "        return true;\n",
    "    }\n",
    "}\n",
    "\n",
    "\n",
    "Object banana = new Banana();\n",
    "System.out.println(banana.toString());\n",
    "System.out.println(banana.equals(null)); //if \".equals()\" was not overriden from the \"Object\" this should always return false"
   ]
  }
 ],
 "metadata": {
  "kernelspec": {
   "display_name": "java (IJava/j!)",
   "language": "java",
   "name": "jbang-ijava"
  },
  "language_info": {
   "codemirror_mode": "java",
   "file_extension": ".jshell",
   "mimetype": "text/x-java-source",
   "name": "java",
   "pygments_lexer": "java",
   "version": "17.0.12+7"
  }
 },
 "nbformat": 4,
 "nbformat_minor": 2
}
