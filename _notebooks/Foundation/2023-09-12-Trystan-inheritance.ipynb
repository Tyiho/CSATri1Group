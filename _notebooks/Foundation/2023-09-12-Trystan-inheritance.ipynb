{
 "cells": [
  {
   "cell_type": "markdown",
   "metadata": {},
   "source": [
    "---\n",
    "layout: post\n",
    "title:  Java Inheritance \n",
    "description: Team Teach for Java.\n",
    "categories: [DevOps]\n",
    "permalink: /inheritance\n",
    "toc: true\n",
    "comments: true\n",
    "---"
   ]
  },
  {
   "cell_type": "code",
   "execution_count": 5,
   "metadata": {
    "vscode": {
     "languageId": "java"
    }
   },
   "outputs": [
    {
     "name": "stdout",
     "output_type": "stream",
     "text": [
      "As you can see my Car also has the inherited varible hasMovement\n",
      "myCar.hasMovement: true\n"
     ]
    }
   ],
   "source": [
    "public class Vehicle {\n",
    "    public static void main(String[] args) {\n",
    "    }\n",
    "    float miles = 0;\n",
    "    float milesTraveled(float milesToAdd){\n",
    "        this.miles += milesToAdd;\n",
    "        return this.miles;\n",
    "    }\n",
    "    boolean hasMovement = true;\n",
    "}\n",
    "\n",
    "public class Car extends Vehicle {\n",
    "    public static void main(String[] args) {\n",
    "    }\n",
    "    boolean canFly = true;\n",
    "}\n",
    "\n",
    "public class Plane extends Vehicle {\n",
    "    public static void main(String[] args) {\n",
    "    }\n",
    "    boolean canFly = true;\n",
    "}\n",
    "\n",
    "Car myCar = new Car();\n",
    "System.out.println(\"As you can see my Car also has the inherited varible hasMovement\");\n",
    "System.out.println(\"myCar.hasMovement: \"+(new Boolean(myCar.hasMovement)).toString());"
   ]
  },
  {
   "cell_type": "markdown",
   "metadata": {},
   "source": [
    "## Object Superclass"
   ]
  },
  {
   "cell_type": "markdown",
   "metadata": {},
   "source": [
    "Every class and object created **without** the ```extends``` keyword will inherit from the **[Object Superclass](https://docs.oracle.com/javase/8/docs/api/java/lang/Object.html)**. This means it will have some basic methods built in. Some notable methods are:\n",
    "1. ```getClass()```\n",
    "2. ```toString()```\n",
    "3. ```equals()```\n"
   ]
  }
 ],
 "metadata": {
  "kernelspec": {
   "display_name": "Java",
   "language": "java",
   "name": "java"
  },
  "language_info": {
   "codemirror_mode": "java",
   "file_extension": ".jshell",
   "mimetype": "text/x-java-source",
   "name": "Java",
   "pygments_lexer": "java",
   "version": "17.0.12+7-Ubuntu-1ubuntu222.04"
  }
 },
 "nbformat": 4,
 "nbformat_minor": 2
}
