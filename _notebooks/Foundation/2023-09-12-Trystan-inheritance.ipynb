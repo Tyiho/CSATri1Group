{
 "cells": [
  {
   "cell_type": "markdown",
   "metadata": {},
   "source": [
    "---\n",
    "layout: post\n",
    "title:  Java Inheritance \n",
    "description: Team Teach for Java.\n",
    "categories: [DevOps]\n",
    "permalink: /inheritance\n",
    "toc: true\n",
    "comments: true\n",
    "---"
   ]
  },
  {
   "cell_type": "code",
   "execution_count": null,
   "metadata": {
    "vscode": {
     "languageId": "java"
    }
   },
   "outputs": [],
   "source": [
    "public class Vehicle {\n",
    "    float miles = 0;\n",
    "    float milesTraveled(float milesToAdd){\n",
    "        this.miles += milesToAdd;\n",
    "        return this.miles;\n",
    "    }\n",
    "    boolean hasMovement = true;\n",
    "}\n",
    "\n",
    "public class Car extends Vehicle {\n",
    "    boolean canFly = true;\n",
    "}\n",
    "\n",
    "public class Plane extends Vehicle {\n",
    "    boolean canFly = true;\n",
    "}\n",
    "\n",
    "Car myCar = new Car();\n",
    "System.out.println(\"As you can see my Car also has the inherited varible hasMovement\");\n",
    "System.out.println(\"myCar.hasMovement: \"+(new Boolean(myCar.hasMovement)).toString());"
   ]
  },
  {
   "cell_type": "markdown",
   "metadata": {},
   "source": [
    "## Object Superclass"
   ]
  },
  {
   "cell_type": "markdown",
   "metadata": {},
   "source": [
    "Every class and object created **without** the ```extends``` keyword will inherit from the **[Object Superclass](https://docs.oracle.com/javase/8/docs/api/java/lang/Object.html)**. This means it will have some basic methods built in. Some notable methods are:\n",
    "1. ```getClass()```\n",
    "2. ```toString()```\n",
    "3. ```equals()```"
   ]
  },
  {
   "cell_type": "markdown",
   "metadata": {},
   "source": [
    "### So What?\n",
    "Well its important to keep in mind when writing out your class. If you are planning to have a method in your class/object that matches the Object Superclass, then it **must** be a ```public override```"
   ]
  },
  {
   "cell_type": "code",
   "execution_count": null,
   "metadata": {
    "vscode": {
     "languageId": "java"
    }
   },
   "outputs": [],
   "source": [
    "// this will return an error\n",
    "class Object1 {\n",
    "    String toString(){\n",
    "        return \"Object 1\";\n",
    "    }\n",
    "}"
   ]
  },
  {
   "cell_type": "code",
   "execution_count": null,
   "metadata": {
    "vscode": {
     "languageId": "java"
    }
   },
   "outputs": [],
   "source": [
    "// this will be fine\n",
    "class Object2{\n",
    "    @Override\n",
    "    public String toString(){\n",
    "        return \"Object 2\";\n",
    "    }\n",
    "}"
   ]
  },
  {
   "cell_type": "markdown",
   "metadata": {},
   "source": [
    "## Polymorphism"
   ]
  },
  {
   "cell_type": "markdown",
   "metadata": {},
   "source": [
    "Polymorphsim is to have many forms. In programming it means the ability to use a **single word** to represent **multiple types**. In Java this can be shown with class extensions. "
   ]
  },
  {
   "cell_type": "markdown",
   "metadata": {},
   "source": [
    "### So What?\n",
    "It allows you to create multiple sub classes, then create objects of those subclasses using the main class as the type."
   ]
  },
  {
   "cell_type": "code",
   "execution_count": null,
   "metadata": {
    "vscode": {
     "languageId": "java"
    }
   },
   "outputs": [],
   "source": [
    "class Water {\n",
    "    public String typeOfWater(){\n",
    "        return \"water\";\n",
    "    }\n",
    "}\n",
    "\n",
    "class Lake extends Water {\n",
    "    @Override\n",
    "    public String typeOfWater(){\n",
    "        return \"lake\";\n",
    "    }\n",
    "}\n",
    "\n",
    "Water lake = new Lake(); //creates a \"Water\" class using a \"Lake\" constructor\n",
    "System.out.println(lake.typeOfWater()); // Therefore the typeOfWater is overriden"
   ]
  },
  {
   "cell_type": "markdown",
   "metadata": {},
   "source": [
    "### So does that mean that you can use a parent object as the type for the child?\n",
    "***Not Really!***\n",
    "\n",
    "Using a child classes constructor to make a parent class **won't** make the parent class the child. So **any extra** methods in the child class **won't exist** when using the ```parent's constructor```."
   ]
  },
  {
   "cell_type": "code",
   "execution_count": null,
   "metadata": {
    "vscode": {
     "languageId": "java"
    }
   },
   "outputs": [],
   "source": [
    "class Sweet {\n",
    "    public String name(){\n",
    "        return \"Sweet\";\n",
    "   }\n",
    "}\n",
    "\n",
    "class Chocolate extends Sweet {\n",
    "    @Override\n",
    "    public String name(){\n",
    "         return \"Chocolate\";\n",
    "    }\n",
    "\n",
    "    public boolean isBrown(){\n",
    "        return true;\n",
    "    }\n",
    "}\n",
    "\n",
    "Sweet chocolate = new Chocolate(); //creates a \"Sweet\" using a \"Chocolate\" constructor\n",
    "\n",
    "System.out.println(chocolate.name()); //returns \"Chocolate\"\n",
    "\n",
    "//this will result in an error becuase \"isBrown()\" is not a part of \"Sweet\"\n",
    "System.out.println(chocolate.isBrown());"
   ]
  },
  {
   "cell_type": "markdown",
   "metadata": {},
   "source": [
    "Polymorphism also applies with previous **Object Superclass**.\n",
    "Techically you can use any class or object constructor for an Object."
   ]
  },
  {
   "cell_type": "code",
   "execution_count": null,
   "metadata": {
    "vscode": {
     "languageId": "java"
    }
   },
   "outputs": [],
   "source": [
    "class Fruit{\n",
    "    @Override\n",
    "    public String toString(){\n",
    "        return \"I'm a Fruit!\";\n",
    "    }\n",
    "}\n",
    "class Banana extends Fruit{\n",
    "    @Override\n",
    "    public boolean equals(Object obj){ //overrides the equals\n",
    "        return true;\n",
    "    }\n",
    "}\n",
    "\n",
    "\n",
    "Object banana = new Banana();\n",
    "System.out.println(banana.toString());\n",
    "System.out.println(banana.equals(null));"
   ]
  }
 ],
 "metadata": {
  "kernelspec": {
   "display_name": "Java",
   "language": "java",
   "name": "java"
  },
  "language_info": {
   "codemirror_mode": "java",
   "file_extension": ".jshell",
   "mimetype": "text/x-java-source",
   "name": "Java",
   "pygments_lexer": "java",
   "version": "17.0.12+7-Ubuntu-1ubuntu222.04"
  }
 },
 "nbformat": 4,
 "nbformat_minor": 2
}
