{
 "cells": [
  {
   "cell_type": "markdown",
   "metadata": {},
   "source": [
    "---\n",
    "layout: post\n",
    "title:  Hacks\n",
    "description: Hacks Menu\n",
    "courses: { csse: {week: 1}, csp: {week: 1}, csa: {week: 1} }\n",
    "categories: [DevOps]\n",
    "permalink: /inheritance-hacks\n",
    "menu: nav/inheritance.html\n",
    "type: collab\n",
    "comments: true\n",
    "sticky_rank: 1\n",
    "---"
   ]
  },
  {
   "cell_type": "markdown",
   "metadata": {},
   "source": [
    "# 9.1 Hacks\n",
    "\n",
    "- Implement two new subclasses, Circle and Hexagon, extending from the Shape class. Each shape should have a method to calculate its area and should override the print_something() method to print something unique for that shape. Follow the same structure as the Rectangle and Triangle classes!\n",
    "\n",
    "- Create a new subclass called Ellipse that extends Shape. Update Your Driver Code\n",
    "\n",
    "- Constructor: Implement a constructor for Ellipse that accepts parameters for name, length, and width. This constructor should call the superclass constructor using super().\n",
    "- Area Calculation: Override the calc_area() method to compute the area of an ellipse using the formula: Area = π * (length/2) * (width/2).\n",
    "- Custom Message: Override the print_something() method to print a unique message for the Ellipse.\n",
    "\n",
    "\n",
    "- Test the Ellipse: Instantiate an Ellipse object and print its area. Verify that the constructor correctly initializes the shape and that the super() keyword is used properly.\n",
    "Hints:\n",
    "\n",
    "- Ellipse Constructor: Use super(name, length, width) to initialize inherited fields.\n",
    "Check Order: Remember, super() must be the first statement in your subclass constructor.\n"
   ]
  },
  {
   "cell_type": "markdown",
   "metadata": {},
   "source": [
    "# 9.6 Hacks\n",
    "* using a previous example of inheritance create an example polymorphsim, or create an example of polymorphic behavhoir between two classes of Shape and Sqaure\n",
    "* Using the previous polymorphism popcorn hack, explain which parts are static and dynamic data types\n",
    "* Define Down-Casting in your own words\n",
    "* using the previous polymorphism example add an example of down-casting."
   ]
  },
  {
   "cell_type": "markdown",
   "metadata": {},
   "source": [
    "# 9.7 Hacks\n",
    "* Create an class where you execute an unchanged method from *Object*, then execute a different method from *Object* that you changed."
   ]
  },
  {
   "cell_type": "markdown",
   "metadata": {},
   "source": [
    "### FRQ Prompt\n",
    "\n",
    "**Consider a program that manages a collection of books, specifically focusing on textbooks. You are required to implement a class named `Textbook` that extends an existing class called `Book`. The `Textbook` class should include the following features:**\n",
    "\n",
    "1. **A private integer field named `edition` that represents the edition number of the textbook.**\n",
    "2. **A constructor that takes three parameters: a string for the title, a double for the price, and an integer for the edition. This constructor should invoke the superclass constructor to initialize the title and price.**\n",
    "3. **A method `getEdition()` that returns the edition of the textbook.**\n",
    "4. **A method `canSubstituteFor(Textbook other)` that determines if the current textbook can be substituted for another textbook. This method should return true if both textbooks have the same title and the current textbook's edition is equal to or greater than the other textbook's edition.**\n",
    "5. **An overridden method `getBookInfo()` that returns a string representation of the textbook information, including the title, price, and edition.**\n",
    "6. **Optional: Include error handling in the constructor to ensure that the edition is a positive integer, and override the `toString()` method for convenient output of the textbook information.**\n",
    "\n",
    "**Write the complete implementation of the `Textbook` class, including all specified methods and any additional features you believe would be beneficial.**\n"
   ]
  }
 ],
 "metadata": {
  "kernelspec": {
   "display_name": "java (IJava/j!)",
   "language": "java",
   "name": "jbang-ijava"
  },
  "language_info": {
   "name": "java"
  }
 },
 "nbformat": 4,
 "nbformat_minor": 2
}
